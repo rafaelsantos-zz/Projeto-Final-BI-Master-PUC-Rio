{
  "nbformat": 4,
  "nbformat_minor": 0,
  "metadata": {
    "colab": {
      "name": "Trab_Final.ipynb",
      "provenance": [],
      "collapsed_sections": [
        "r2rf6bo7lCpC"
      ]
    },
    "kernelspec": {
      "name": "python3",
      "display_name": "Python 3"
    }
  },
  "cells": [
    {
      "cell_type": "markdown",
      "metadata": {
        "id": "Ay-yzyAEPIDS"
      },
      "source": [
        "Trabalho apresentado ao curso [BI MASTER](https://ica.puc-rio.ai/bi-master) como pré-requisito para conclusão de curso e obtenção de crédito na disciplina \"Projetos de Sistemas Inteligentes de Apoio à Decisão\""
      ]
    },
    {
      "cell_type": "code",
      "metadata": {
        "id": "f_2PL_CXCPDN",
        "colab": {
          "base_uri": "https://localhost:8080/"
        },
        "outputId": "b3a141ae-575d-46f0-e6b5-f85b054c9d6c"
      },
      "source": [
        "from google.colab import drive\n",
        "drive.mount('/content/drive/')"
      ],
      "execution_count": null,
      "outputs": [
        {
          "output_type": "stream",
          "text": [
            "Mounted at /content/drive/\n"
          ],
          "name": "stdout"
        }
      ]
    },
    {
      "cell_type": "markdown",
      "metadata": {
        "id": "M0pV6Vs4P_9C"
      },
      "source": [
        "## Leitura da NF"
      ]
    },
    {
      "cell_type": "code",
      "metadata": {
        "id": "2zfa7Ce8CTG0"
      },
      "source": [
        "if (True):\n",
        "  import os\n",
        "  os.chdir(\"drive/My Drive/PROJ/\")  #MAPEAR PARA O LOCAL NO DRIVE ONDE SE ENCONTRA ESSE ARQUIVO"
      ],
      "execution_count": null,
      "outputs": []
    },
    {
      "cell_type": "code",
      "metadata": {
        "id": "bMNH53NtCQzt"
      },
      "source": [
        "!ls #Ver os arquivos"
      ],
      "execution_count": null,
      "outputs": []
    },
    {
      "cell_type": "markdown",
      "metadata": {
        "id": "u4Hk0ta8NvdB"
      },
      "source": [
        "### Utilizando a biblioteca para \"colar\" por cima o texto decodificado - [OCRmyPDF](https://github.com/jbarlow83/OCRmyPDF)"
      ]
    },
    {
      "cell_type": "code",
      "metadata": {
        "id": "6N03L7auRGvC"
      },
      "source": [
        "!sudo apt-get install ghostscript\n",
        "!sudo apt install tesseract-ocr"
      ],
      "execution_count": null,
      "outputs": []
    },
    {
      "cell_type": "code",
      "metadata": {
        "id": "ettbz2i6TJgD"
      },
      "source": [
        "!pip install pluggy==0.13.0\n",
        "!pip install folium==0.2.1\n",
        "!pip install ocrmypdf"
      ],
      "execution_count": null,
      "outputs": []
    },
    {
      "cell_type": "code",
      "metadata": {
        "id": "q7ikZwzQToiI"
      },
      "source": [
        "!sudo apt-get update"
      ],
      "execution_count": null,
      "outputs": []
    },
    {
      "cell_type": "code",
      "metadata": {
        "id": "wc05B1wBTyWM"
      },
      "source": [
        "# Após a instalação do pluggy reiniciar o ambiente de execução para que o mesmo carregue a versão instalada!\n",
        "import pluggy\n",
        "import folium\n",
        "import ocrmypdf\n",
        "# import pytesseract  "
      ],
      "execution_count": null,
      "outputs": []
    },
    {
      "cell_type": "code",
      "metadata": {
        "colab": {
          "base_uri": "https://localhost:8080/",
          "height": 35
        },
        "id": "13RKa2bqUVXL",
        "outputId": "f914acdf-395f-42b8-cf44-2bae81de4a7f"
      },
      "source": [
        "pluggy.__version__"
      ],
      "execution_count": null,
      "outputs": [
        {
          "output_type": "execute_result",
          "data": {
            "application/vnd.google.colaboratory.intrinsic+json": {
              "type": "string"
            },
            "text/plain": [
              "'0.13.0'"
            ]
          },
          "metadata": {
            "tags": []
          },
          "execution_count": 6
        }
      ]
    },
    {
      "cell_type": "code",
      "metadata": {
        "colab": {
          "base_uri": "https://localhost:8080/"
        },
        "id": "LpL9iU-cUqzc",
        "outputId": "a1536986-7798-4275-937e-7d0d365b8fcd"
      },
      "source": [
        "ocrmypdf.ocr('NF MATHEUS PSICO SET.pdf','Text_NF MATHEUS PSICO SET.pdf')"
      ],
      "execution_count": null,
      "outputs": [
        {
          "output_type": "stream",
          "text": [
            "Scanning contents: 100%|██████████| 1/1 [00:00<00:00,  9.41page/s]\n",
            "OCR: 100%|██████████| 1.0/1.0 [00:03<00:00,  3.42s/page]\n",
            "PDF/A conversion: 100%|██████████| 1/1 [00:00<00:00,  5.06page/s]\n",
            "JPEGs: 0image [00:00, ?image/s]\n",
            "JBIG2: 0item [00:00, ?item/s]\n"
          ],
          "name": "stderr"
        },
        {
          "output_type": "execute_result",
          "data": {
            "text/plain": [
              "<ExitCode.ok: 0>"
            ]
          },
          "metadata": {
            "tags": []
          },
          "execution_count": 19
        }
      ]
    },
    {
      "cell_type": "markdown",
      "metadata": {
        "id": "__cvJSoIVRGQ"
      },
      "source": [
        "### Utilizando a biblioteca [Apache Tika](https://tika.apache.org/0.5/documentation.html)"
      ]
    },
    {
      "cell_type": "code",
      "metadata": {
        "id": "tVPSrtq1VQWS"
      },
      "source": [
        "!pip install tika"
      ],
      "execution_count": null,
      "outputs": []
    },
    {
      "cell_type": "code",
      "metadata": {
        "id": "Xg9sjUrmVfHz"
      },
      "source": [
        "from tika import parser"
      ],
      "execution_count": null,
      "outputs": []
    },
    {
      "cell_type": "code",
      "metadata": {
        "id": "HHkoN3RJWT40"
      },
      "source": [
        "try: \n",
        "  file_data = parser.from_file('Text_NF MATHEUS PSICO SET.pdf')\n",
        "except:\n",
        "  print(\"ERRO NA LEITURA DO ARQUIVO DE ENTRADA\")"
      ],
      "execution_count": null,
      "outputs": []
    },
    {
      "cell_type": "code",
      "metadata": {
        "id": "XZc6-qHKWd6t"
      },
      "source": [
        "text = file_data['content']\n",
        "print(text)"
      ],
      "execution_count": null,
      "outputs": []
    },
    {
      "cell_type": "code",
      "metadata": {
        "id": "pf1kCFvImuFg"
      },
      "source": [
        "print(text.splitlines())\n",
        "textlines = [textline for textline in text.splitlines() if textline != '' and textline != ' ']\n",
        "textlines"
      ],
      "execution_count": null,
      "outputs": []
    },
    {
      "cell_type": "markdown",
      "metadata": {
        "id": "eytZYGdM5o5k"
      },
      "source": [
        "### Percorre o contéudo do pdf para coletar as informações necessárias para solicitação do reembolso\n"
      ]
    },
    {
      "cell_type": "code",
      "metadata": {
        "colab": {
          "base_uri": "https://localhost:8080/"
        },
        "id": "554cbdeMo1HH",
        "outputId": "117a55c1-ff56-44c3-9b1f-3b5a40eac63a"
      },
      "source": [
        "achouNumNF = False\n",
        "achouPrestador = False\n",
        "contLinhaPrestador = 1\n",
        "achouDiscrim = False\n",
        "nomeBeneficiario = \"Rafael\"\n",
        "\n",
        "for textline in text.splitlines():\n",
        "  if textline != '' and textline != ' ':\n",
        "\n",
        "    if (\"Numero da Nota\" or \"Número da Nota\") in textline:\n",
        "      achouNumNF = True\n",
        "      continue\n",
        "    if achouNumNF:\n",
        "      notaFiscal = textline.split(\" \")[0]\n",
        "      try:\n",
        "        print(\"notaFiscal=\" + notaFiscal)\n",
        "      except:\n",
        "        print(\"ERRO: NOTA FISCAL\")      \n",
        "      emissaoNF = textline.split(\" \")[1]\n",
        "      try:\n",
        "        print(\"emissaoNF=\" + emissaoNF)\n",
        "      except:\n",
        "        print(\"ERRO: DATA EMISSÃO NF\") \n",
        "      achouNumNF = False\n",
        "\n",
        "    if \"PRESTADOR\" in textline:   \n",
        "      achouPrestador = True\n",
        "      continue\n",
        "    if achouPrestador:\n",
        "      if \"CPF/CNPJ\" in textline:\n",
        "        cnpjCpf = textline.split(\" \")[1]\n",
        "        try:\n",
        "          print(\"cnpjCpf=\" + cnpjCpf)\n",
        "        except:\n",
        "          print(\"ERRO: CNPJ/CPF\")         \n",
        "      if (\"Razao Social\" or \"Razão Social\") in textline:\n",
        "        razaoSocial = textline[19:]\n",
        "        try:\n",
        "          print(\"razaoSocial=\" + razaoSocial) \n",
        "        except:\n",
        "          print(\"ERRO: RAZÃO SOCIAL\")       \n",
        "      if (\"Municipio\" or \"Município\") in textline:\n",
        "        cidAtend = textline.split(\" \")[1]\n",
        "        try:\n",
        "          print(\"cidAtend=\" + cidAtend) \n",
        "        except:\n",
        "          print(\"ERRO: CIDADE ATENDIMENTO\")                   \n",
        "        ufAtend = textline.split(\" \")[3]\n",
        "        try:\n",
        "          print(\"ufAtend=\" + ufAtend) \n",
        "        except:\n",
        "          print(\"ERRO: UF ATENDIMENTO\")            \n",
        "      contLinhaPrestador += 1\n",
        "      if contLinhaPrestador > 4:\n",
        "        achouPrestador = False\n",
        "\n",
        "    if \"DISCRIM\" in textline:   \n",
        "      achouDiscrim = True\n",
        "      continue\n",
        "    if achouDiscrim:\n",
        "      if (\"Matheus\") in textline:\n",
        "        nomeBeneficiario = \"Matheus\"\n",
        "      if (\"Rafaella\") in textline:\n",
        "        nomeBeneficiario = \"Rafaella\"   \n",
        "      if (\"Lidiane\") in textline:\n",
        "        nomeBeneficiario = \"Lidiane\"\n",
        "\n",
        "  if \"TOTAL DA NOTA\" in textline:\n",
        "    valorNF = textline.split(\" \")[6]\n",
        "    print(\"nomeBeneficiario=\" + nomeBeneficiario)    \n",
        "    try:\n",
        "      print(\"valorNF=\" + valorNF) \n",
        "    except:\n",
        "      print(\"ERRO: VALOR NF\")     \n",
        "    achouDiscrim = False\n",
        "      \n",
        "      "
      ],
      "execution_count": null,
      "outputs": [
        {
          "output_type": "stream",
          "text": [
            "notaFiscal=202000000000140\n",
            "emissaoNF=19/10/2020\n",
            "cnpjCpf=31.313.146/0001-10\n",
            "razaoSocial=ESTIMULO - ESPACO DE DESENVOLVIMENTOPSI\n",
            "cidAtend=Niterdi\n",
            "ufAtend=RJ\n",
            "nomeBeneficiario=Matheus\n",
            "valorNF=430,00\n"
          ],
          "name": "stdout"
        }
      ]
    },
    {
      "cell_type": "markdown",
      "metadata": {
        "id": "BS8Q8-0mCVYc"
      },
      "source": [
        "## Submeter a NF"
      ]
    },
    {
      "cell_type": "markdown",
      "metadata": {
        "id": "r2rf6bo7lCpC"
      },
      "source": [
        "### Instala todas as bibliotecas necessárias"
      ]
    },
    {
      "cell_type": "code",
      "metadata": {
        "id": "uIBkya01CUgT"
      },
      "source": [
        "!pip install selenium\n",
        "!apt-get update # to update ubuntu to correctly run apt install\n",
        "!apt install chromium-chromedriver\n",
        "#!cp /usr/lib/chromium-browser/chromedriver /usr/bin"
      ],
      "execution_count": null,
      "outputs": []
    },
    {
      "cell_type": "code",
      "metadata": {
        "id": "85dQLKq7Zh4e",
        "colab": {
          "base_uri": "https://localhost:8080/"
        },
        "outputId": "52255d85-3d68-44f6-90df-1188124cfac7"
      },
      "source": [
        "!wget https://chromedriver.storage.googleapis.com/2.42/chromedriver_linux64.zip  && unzip chromedriver_linux64"
      ],
      "execution_count": null,
      "outputs": [
        {
          "output_type": "stream",
          "text": [
            "--2021-04-19 23:01:37--  https://chromedriver.storage.googleapis.com/2.42/chromedriver_linux64.zip\n",
            "Resolving chromedriver.storage.googleapis.com (chromedriver.storage.googleapis.com)... 172.253.62.128, 2607:f8b0:4004:c07::80\n",
            "Connecting to chromedriver.storage.googleapis.com (chromedriver.storage.googleapis.com)|172.253.62.128|:443... connected.\n",
            "HTTP request sent, awaiting response... 200 OK\n",
            "Length: 4039043 (3.9M) [application/zip]\n",
            "Saving to: ‘chromedriver_linux64.zip.2’\n",
            "\n",
            "\r          chromedri   0%[                    ]       0  --.-KB/s               \rchromedriver_linux6 100%[===================>]   3.85M  --.-KB/s    in 0.1s    \n",
            "\n",
            "2021-04-19 23:01:37 (34.3 MB/s) - ‘chromedriver_linux64.zip.2’ saved [4039043/4039043]\n",
            "\n",
            "Archive:  chromedriver_linux64.zip\n",
            "replace chromedriver? [y]es, [n]o, [A]ll, [N]one, [r]ename: y\n",
            "  inflating: chromedriver            \n"
          ],
          "name": "stdout"
        }
      ]
    },
    {
      "cell_type": "code",
      "metadata": {
        "id": "3SFkKjVP7h8d",
        "colab": {
          "base_uri": "https://localhost:8080/"
        },
        "outputId": "a5b24168-06a9-4085-b4a9-a8d164b05c58"
      },
      "source": [
        "import sys\n",
        "sys.path.insert(0,'/usr/lib/chromium-browser/chromedriver')\n",
        "from selenium import webdriver\n",
        "chrome_options = webdriver.ChromeOptions()\n",
        "chrome_options.add_argument('--headless')\n",
        "chrome_options.add_argument('--no-sandbox')\n",
        "chrome_options.add_argument('--disable-dev-shm-usage')\n",
        "chrome_options.add_argument('--start-maximized')\n",
        "chrome_options.add_argument('user-agent=Mozilla/5.0 (Windows NT 6.3; WOW64) AppleWebKit/537.36 (KHTML, like Gecko) Chrome/59.0.3071.115 Safari/537.36')\n",
        "chrome_options.add_argument('--ignore-certificate-errors')\n",
        "wd = webdriver.Chrome('chromedriver',chrome_options=chrome_options, service_args=['--verbose', '--log-path=/tmp/chromedriver.log'])"
      ],
      "execution_count": null,
      "outputs": [
        {
          "output_type": "stream",
          "text": [
            "/usr/local/lib/python3.7/dist-packages/ipykernel_launcher.py:11: DeprecationWarning: use options instead of chrome_options\n",
            "  # This is added back by InteractiveShellApp.init_path()\n"
          ],
          "name": "stderr"
        }
      ]
    },
    {
      "cell_type": "markdown",
      "metadata": {
        "id": "ZlkJbOpG-rv3"
      },
      "source": [
        "### Entrar com login e senha"
      ]
    },
    {
      "cell_type": "code",
      "metadata": {
        "id": "B16miA_5g5QH"
      },
      "source": [
        "from bs4 import BeautifulSoup\n",
        "from selenium.webdriver.common.keys import Keys\n",
        "import time"
      ],
      "execution_count": null,
      "outputs": []
    },
    {
      "cell_type": "code",
      "metadata": {
        "id": "hcpjKwbi_ony"
      },
      "source": [
        "wd.delete_all_cookies()"
      ],
      "execution_count": null,
      "outputs": []
    },
    {
      "cell_type": "code",
      "metadata": {
        "id": "TmyFbUQdKAWA"
      },
      "source": [
        "# Link para entrada de reembolso na AMS\n",
        "wd.get(\"https://ams.petrobras.com.br/main.jsp?lumPageId=8A9E308F6524D1B50165A9CF9C6902DA\")\n",
        "time.sleep(2)"
      ],
      "execution_count": null,
      "outputs": []
    },
    {
      "cell_type": "code",
      "metadata": {
        "id": "d0vqLCMkJ738"
      },
      "source": [
        "matriculaNr = wd.find_element_by_xpath('//input[@name=\"PEAU_NR_MATRICULA_SUPERIOR\"]')\n",
        "matriculaNr.send_keys(\"010992552300\")\n",
        "\n",
        "senhaTx = wd.find_element_by_xpath('//input[@name=\"PEAU_TX_SENHA_SUPERIOR\"]')\n",
        "senhaTx.send_keys(open('password.txt').read()+Keys.ENTER)\n",
        "\n",
        "time.sleep(2)"
      ],
      "execution_count": null,
      "outputs": []
    },
    {
      "cell_type": "markdown",
      "metadata": {
        "id": "yN0o3_vKc5sk"
      },
      "source": [
        "### Inputar os dados da NF\n"
      ]
    },
    {
      "cell_type": "code",
      "metadata": {
        "id": "cftRF-mCKjhE"
      },
      "source": [
        "bimaster_page = wd.page_source\n",
        "bimaster_page_soup = BeautifulSoup(bimaster_page,'html.parser')\n",
        "print(bimaster_page_soup)"
      ],
      "execution_count": null,
      "outputs": []
    },
    {
      "cell_type": "code",
      "metadata": {
        "id": "zsF8rvhjoh0H"
      },
      "source": [
        "# Número da Carteirinha do Beneficiário [Nome]\n",
        "numCarteirinha = \"01.09925523.00\" #Rafael\n",
        "if nomeBeneficiario==\"Matheus\":\n",
        "  numCarteirinha = \"01.09925523.05\"\n",
        "if nomeBeneficiario==\"Rafaella\":\n",
        "  numCarteirinha = \"01.09925523.04\"  \n",
        "nomeNr = wd.find_element_by_xpath('//select[@name=\"PSLE_NM_NOME\"]')\n",
        "nomeNr.send_keys(numCarteirinha)\n",
        "\n",
        "# Recibo (1) ou Nota Fiscal (2)\n",
        "tipoDocTX = wd.find_element_by_xpath('//select[@name=\"PSLE_TX_TIPO_DOCUMENTO\"]')\n",
        "tipoDocTX.send_keys(\"2\")\n",
        "\n",
        "# Número da Nota Fiscal\n",
        "#notaFiscal = \"202000000000140\"\n",
        "documentoNr = wd.find_element_by_xpath('//input[@name=\"PSLE_NR_DOCUMENTO\"]')\n",
        "documentoNr.send_keys(notaFiscal)\n",
        "\n",
        "# Data de Emissão da Nota Fiscal\n",
        "#emissaoNF = \"19/10/2020\"\n",
        "emissDocDt = wd.find_element_by_xpath('//input[@name=\"PSLE_DT_EMISS_DOCUMENTO\"]')\n",
        "emissDocDt.send_keys(emissaoNF)\n",
        "\n",
        "# Tipo Pessoa (CPF ou CNPJ)\n",
        "# tipoPessoa = \"CNPJ\"\n",
        "if (len(cnpjCpf) > 14):\n",
        "  tipoPessoa = \"CNPJ\"\n",
        "else:\n",
        "  tipoPessoa = \"CPF\"\n",
        "tipoPessoaRd = wd.find_element_by_xpath('//input[@name=\"tipopessoa\"]')\n",
        "tipoPessoaRd.send_keys(tipoPessoa)\n",
        "\n",
        "# CPF ou CNPJ\n",
        "#cnpjCpf = \"31.313.460/0011-0\"\n",
        "cnpjCpfNmRd = wd.find_element_by_xpath('//input[@name=\"PSLE_NM_CNPJCPF\"]')\n",
        "cnpjCpfNmRd.send_keys(cnpjCpf)\n",
        "\n",
        "# Razão Social\n",
        "#razaoSocial = \"ESTIMULO - ESPAÇO DE DESENVOLVIMENTO PSI\"\n",
        "razSocNm = wd.find_element_by_xpath('//input[@name=\"PSLE_TX_RAZSOC_NOME\"]')\n",
        "razSocNm.send_keys(razaoSocial)\n",
        "\n",
        "# UF do local do atendimento\n",
        "#ufAtend = \"RJ\"\n",
        "ufAtendTx = wd.find_element_by_xpath('//select[@name=\"PSLE_TX_UF_ATEND\"]')\n",
        "ufAtendTx.send_keys(ufAtend)\n",
        "\n",
        "# Cidade do local do atendimento\n",
        "#cidAtend = \"NITERÓI\"\n",
        "if (cidAtend == \"Niterdi\"):\n",
        "  cidAtend = \"NITERÓI\"\n",
        "cidAtendTx = wd.find_element_by_xpath('//select[@name=\"PSLE_TX_CID_ATEND\"]')\n",
        "cidAtendTx.send_keys(cidAtend)\n",
        "\n",
        "# Valor da NF\n",
        "#valorNF = \"430,00\"\n",
        "valorApNm = wd.find_element_by_xpath('//input[@name=\"PSLE_NM_VALOR_AP\"]')\n",
        "valorApNm.send_keys(valorNF)\n",
        "\n",
        "# Data da Consulta\n",
        "#dataConsulta = \"19/10/2020\"\n",
        "dataConsulta = emissaoNF\n",
        "consMedicaDt = wd.find_element_by_xpath('//input[@name=\"PSLE_DT_CONS_MEDICA\"]')\n",
        "consMedicaDt.send_keys(dataConsulta)"
      ],
      "execution_count": null,
      "outputs": []
    },
    {
      "cell_type": "code",
      "metadata": {
        "id": "YsasFTVbT6Uf"
      },
      "source": [
        "# Arquivo\n",
        "try: \n",
        "  fileNm = wd.find_element_by_xpath('//input[@name=\"PSLE_NM_FILE\"]')\n",
        "  fileNm.send_keys(\"C:\\\\Dropbox\\\\BI Master\\\\PROJ\\\\NF MATHEUS PSICO SET.pdf\")\n",
        "  fileNm.send_keys(Keys.ENTER)\n",
        "  status = \"OK\"\n",
        "except :\n",
        "  print(\"ERRO NO ENVIO DOS DADOS\")  \n",
        "\n",
        "\n"
      ],
      "execution_count": null,
      "outputs": []
    },
    {
      "cell_type": "code",
      "metadata": {
        "id": "R7j9ebmOUAWB"
      },
      "source": [
        "wd.quit()"
      ],
      "execution_count": null,
      "outputs": []
    },
    {
      "cell_type": "markdown",
      "metadata": {
        "id": "5S5wJo2rYYe5"
      },
      "source": [
        "## Gravar Dados"
      ]
    },
    {
      "cell_type": "code",
      "metadata": {
        "colab": {
          "base_uri": "https://localhost:8080/"
        },
        "id": "LctK9gznardI",
        "outputId": "c61c985d-8283-4636-b055-fcd67c5bd7ba"
      },
      "source": [
        "from sqlalchemy import create_engine\n",
        "my_conn=create_engine(\"sqlite:////content/drive/MyDrive/my_db/my_db.db\")\n",
        "print(\"Conectado ao banco de dados com sucesso\")"
      ],
      "execution_count": null,
      "outputs": [
        {
          "output_type": "stream",
          "text": [
            "Conectado ao banco de dados com sucesso\n"
          ],
          "name": "stdout"
        }
      ]
    },
    {
      "cell_type": "markdown",
      "metadata": {
        "id": "N1Pny3Q8euqY"
      },
      "source": [
        "### Criação da tabela"
      ]
    },
    {
      "cell_type": "code",
      "metadata": {
        "colab": {
          "base_uri": "https://localhost:8080/"
        },
        "id": "oYiJit56dQJw",
        "outputId": "56de1df0-ecaa-4b35-edbd-789c46cd6532"
      },
      "source": [
        "from sqlalchemy.exc import SQLAlchemyError\n",
        "try:\n",
        "    my_conn.execute('''\n",
        "        CREATE TABLE IF NOT EXISTS Reembolso(idReemb text primary key, \n",
        "                      numCarteirinha text, \n",
        "                      nomeBeneficiario text, \n",
        "                      notaFiscal text, \n",
        "                      emissaoNF text,\n",
        "                      tipoPessoa text, \n",
        "                      cnpjCpf text, \n",
        "                      razaoSocial text,\n",
        "                      ufAtend text, \n",
        "                      cidAtend text, \n",
        "                      valorNF real, \n",
        "                      dataConsulta text, \n",
        "                      status text \n",
        "                      );''')  \n",
        "except SQLAlchemyError as e:\n",
        "  #print(e)\n",
        "  error = str(e.__dict__['orig'])\n",
        "  print(error)\n",
        "else:\n",
        "  print(\"Tabela criada com sucesso...\")"
      ],
      "execution_count": null,
      "outputs": [
        {
          "output_type": "stream",
          "text": [
            "Tabela criada com sucesso...\n"
          ],
          "name": "stdout"
        }
      ]
    },
    {
      "cell_type": "markdown",
      "metadata": {
        "id": "T3iJFbaOfFgj"
      },
      "source": [
        "### Inserção do registro"
      ]
    },
    {
      "cell_type": "code",
      "metadata": {
        "colab": {
          "base_uri": "https://localhost:8080/"
        },
        "id": "XqSdNKmqeq_W",
        "outputId": "e8de9fb6-838e-4a08-c9e8-7550946b191a"
      },
      "source": [
        "try:\n",
        "  r_set=my_conn.execute('''INSERT INTO `Reembolso` \n",
        "  (`idReemb`, `numCarteirinha`, `nomeBeneficiario`, `notaFiscal`, `emissaoNF`, `tipoPessoa`, `cnpjCpf`, `razaoSocial`, `ufAtend`, `cidAtend`, `valorNF`, `dataConsulta`, `status`) \n",
        "  VALUES  (\"''' + notaFiscal +  '''\", \"'''  + numCarteirinha + '''\", \"''' + nomeBeneficiario + '''\", \"''' + notaFiscal + '''\", \"''' + emissaoNF + '''\", \"''' + tipoPessoa + '''\", \"''' + cnpjCpf + '''\", \"''' + razaoSocial + '''\", \"''' + ufAtend + '''\", \"''' + cidAtend + '''\", \"''' + valorNF + '''\", \"''' + dataConsulta + '''\", \"''' + status + '''\");''')\n",
        "except SQLAlchemyError as e:\n",
        "  #print(e)\n",
        "  error = str(e.__dict__['orig'])\n",
        "  print(error)\n",
        "else:\n",
        "  print(\"Qtd. de registros adicionados : \",r_set.rowcount)"
      ],
      "execution_count": null,
      "outputs": [
        {
          "output_type": "stream",
          "text": [
            "Qtd. de registros adicionados :  1\n"
          ],
          "name": "stdout"
        }
      ]
    },
    {
      "cell_type": "markdown",
      "metadata": {
        "id": "eD-McDUUfLKj"
      },
      "source": [
        "### Exibir os registros gravados"
      ]
    },
    {
      "cell_type": "code",
      "metadata": {
        "id": "HA4WK1u5bL57",
        "colab": {
          "base_uri": "https://localhost:8080/"
        },
        "outputId": "bc756476-8cdb-49b4-d5c5-58f8aa09fb64"
      },
      "source": [
        "# Exibir os registros gravados\n",
        "r_set2=my_conn.execute('''SELECT * from Reembolso''');\n",
        "for row in r_set2:\n",
        "    print(row)"
      ],
      "execution_count": null,
      "outputs": [
        {
          "output_type": "stream",
          "text": [
            "('202000000000140', '01.09925523.05', 'Matheus', '202000000000140', '19/10/2020', 'CNPJ', '31.313.146/0001-10', 'ESTIMULO - ESPACO DE DESENVOLVIMENTOPSI', 'RJ', 'NITERÓI', '430,00', '19/10/2020', 'OK')\n"
          ],
          "name": "stdout"
        }
      ]
    },
    {
      "cell_type": "markdown",
      "metadata": {
        "id": "74ywkZ6KfWya"
      },
      "source": [
        "### Para reiniciar uma nova tabela zerada"
      ]
    },
    {
      "cell_type": "code",
      "metadata": {
        "id": "lp3rA3zvV6O8",
        "colab": {
          "base_uri": "https://localhost:8080/"
        },
        "outputId": "380044e5-9049-46a3-8681-183bc5e7f338"
      },
      "source": [
        "# Para reiniciar uma nova tabela zerada\n",
        "try:\n",
        "  my_conn.execute(''' DROP table Reembolso ''')\n",
        "except SQLAlchemyError as e:\n",
        "  error=str(e.__dict__['orig'])\n",
        "  print(error)\n",
        "else:\n",
        "  print('Tabela apagada')\n",
        "finally:  \n",
        "  my_conn.dispose()"
      ],
      "execution_count": null,
      "outputs": [
        {
          "output_type": "stream",
          "text": [
            "Tabela apagada\n"
          ],
          "name": "stdout"
        }
      ]
    }
  ]
}